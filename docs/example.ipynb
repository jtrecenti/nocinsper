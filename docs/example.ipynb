{
    "cells": [
        {
            "cell_type": "markdown",
            "metadata": {},
            "source": [
                "# Example usage\n",
                "\n",
                "To use `nocinsper` in a project:"
            ]
        },
        {
            "cell_type": "code",
            "execution_count": 2,
            "metadata": {},
            "outputs": [],
            "source": [
                "import nocinsper.nocinsper as noc\n",
                "import getpass\n",
                "import os"
            ]
        },
        {
            "cell_type": "markdown",
            "metadata": {},
            "source": [
                "## Get username and password from environment variables"
            ]
        },
        {
            "cell_type": "code",
            "execution_count": 3,
            "metadata": {},
            "outputs": [],
            "source": [
                "username = 'julioazt'\n",
                "password = getpass.getpass('Password:')"
            ]
        },
        {
            "cell_type": "markdown",
            "metadata": {},
            "source": [
                "## Download data for 2024"
            ]
        },
        {
            "cell_type": "code",
            "execution_count": 4,
            "metadata": {},
            "outputs": [
                {
                    "name": "stdout",
                    "output_type": "stream",
                    "text": [
                        "Getting month 1\n",
                        "Getting month 2\n",
                        "Getting month 3\n",
                        "Getting month 4\n",
                        "Getting month 5\n",
                        "Getting month 6\n",
                        "Getting month 7\n",
                        "Getting month 8\n",
                        "Getting month 9\n",
                        "Getting month 10\n",
                        "Getting month 11\n",
                        "Getting month 12\n"
                    ]
                },
                {
                    "data": {
                        "text/html": [
                            "<div>\n",
                            "<style scoped>\n",
                            "    .dataframe tbody tr th:only-of-type {\n",
                            "        vertical-align: middle;\n",
                            "    }\n",
                            "\n",
                            "    .dataframe tbody tr th {\n",
                            "        vertical-align: top;\n",
                            "    }\n",
                            "\n",
                            "    .dataframe thead th {\n",
                            "        text-align: right;\n",
                            "    }\n",
                            "</style>\n",
                            "<table border=\"1\" class=\"dataframe\">\n",
                            "  <thead>\n",
                            "    <tr style=\"text-align: right;\">\n",
                            "      <th></th>\n",
                            "      <th>day</th>\n",
                            "      <th>event</th>\n",
                            "      <th>month</th>\n",
                            "      <th>year</th>\n",
                            "    </tr>\n",
                            "  </thead>\n",
                            "  <tbody>\n",
                            "    <tr>\n",
                            "      <th>0</th>\n",
                            "      <td>1</td>\n",
                            "      <td>CONFRATERNIZAÇÃO UNIVERSAL -</td>\n",
                            "      <td>1</td>\n",
                            "      <td>2024</td>\n",
                            "    </tr>\n",
                            "    <tr>\n",
                            "      <th>0</th>\n",
                            "      <td>10</td>\n",
                            "      <td>PRAZO FINAL SOLICITAÇÕES:  - ANÁLISE CURRICUL...</td>\n",
                            "      <td>1</td>\n",
                            "      <td>2024</td>\n",
                            "    </tr>\n",
                            "    <tr>\n",
                            "      <th>0</th>\n",
                            "      <td>25</td>\n",
                            "      <td>ANIVERSÁRIO DE SÃO PAULO -</td>\n",
                            "      <td>1</td>\n",
                            "      <td>2024</td>\n",
                            "    </tr>\n",
                            "    <tr>\n",
                            "      <th>0</th>\n",
                            "      <td>26</td>\n",
                            "      <td>ANIVERSÁRIO DE SÃO PAULO -</td>\n",
                            "      <td>1</td>\n",
                            "      <td>2024</td>\n",
                            "    </tr>\n",
                            "    <tr>\n",
                            "      <th>0</th>\n",
                            "      <td>27</td>\n",
                            "      <td>ANIVERSÁRIO DE SÃO PAULO -</td>\n",
                            "      <td>1</td>\n",
                            "      <td>2024</td>\n",
                            "    </tr>\n",
                            "    <tr>\n",
                            "      <th>...</th>\n",
                            "      <td>...</td>\n",
                            "      <td>...</td>\n",
                            "      <td>...</td>\n",
                            "      <td>...</td>\n",
                            "    </tr>\n",
                            "    <tr>\n",
                            "      <th>0</th>\n",
                            "      <td>13</td>\n",
                            "      <td>CIÊNCIA DE DADOS APLICADA AO DIREITO II -  (1...</td>\n",
                            "      <td>12</td>\n",
                            "      <td>2024</td>\n",
                            "    </tr>\n",
                            "    <tr>\n",
                            "      <th>0</th>\n",
                            "      <td>16</td>\n",
                            "      <td>CIÊNCIA DE DADOS APLICADA AO DIREITO II -  (0...</td>\n",
                            "      <td>12</td>\n",
                            "      <td>2024</td>\n",
                            "    </tr>\n",
                            "    <tr>\n",
                            "      <th>0</th>\n",
                            "      <td>18</td>\n",
                            "      <td>CIÊNCIA DE DADOS APLICADA AO DIREITO II -  (1...</td>\n",
                            "      <td>12</td>\n",
                            "      <td>2024</td>\n",
                            "    </tr>\n",
                            "    <tr>\n",
                            "      <th>0</th>\n",
                            "      <td>20</td>\n",
                            "      <td>CIÊNCIA DE DADOS APLICADA AO DIREITO II -  (1...</td>\n",
                            "      <td>12</td>\n",
                            "      <td>2024</td>\n",
                            "    </tr>\n",
                            "    <tr>\n",
                            "      <th>0</th>\n",
                            "      <td>25</td>\n",
                            "      <td>NATAL -</td>\n",
                            "      <td>12</td>\n",
                            "      <td>2024</td>\n",
                            "    </tr>\n",
                            "  </tbody>\n",
                            "</table>\n",
                            "<p>192 rows × 4 columns</p>\n",
                            "</div>"
                        ],
                        "text/plain": [
                            "   day                                              event  month  year\n",
                            "0    1                      CONFRATERNIZAÇÃO UNIVERSAL -       1  2024\n",
                            "0   10   PRAZO FINAL SOLICITAÇÕES:  - ANÁLISE CURRICUL...      1  2024\n",
                            "0   25                        ANIVERSÁRIO DE SÃO PAULO -       1  2024\n",
                            "0   26                        ANIVERSÁRIO DE SÃO PAULO -       1  2024\n",
                            "0   27                        ANIVERSÁRIO DE SÃO PAULO -       1  2024\n",
                            "..  ..                                                ...    ...   ...\n",
                            "0   13   CIÊNCIA DE DADOS APLICADA AO DIREITO II -  (1...     12  2024\n",
                            "0   16   CIÊNCIA DE DADOS APLICADA AO DIREITO II -  (0...     12  2024\n",
                            "0   18   CIÊNCIA DE DADOS APLICADA AO DIREITO II -  (1...     12  2024\n",
                            "0   20   CIÊNCIA DE DADOS APLICADA AO DIREITO II -  (1...     12  2024\n",
                            "0   25                                           NATAL -      12  2024\n",
                            "\n",
                            "[192 rows x 4 columns]"
                        ]
                    },
                    "execution_count": 4,
                    "metadata": {},
                    "output_type": "execute_result"
                }
            ],
            "source": [
                "df = noc.noc_get_year(username, password)\n",
                "\n",
                "df"
            ]
        }
    ],
    "metadata": {
        "kernelspec": {
            "display_name": "Python 3",
            "language": "python",
            "name": "python3"
        },
        "language_info": {
            "codemirror_mode": {
                "name": "ipython",
                "version": 3
            },
            "file_extension": ".py",
            "mimetype": "text/x-python",
            "name": "python",
            "nbconvert_exporter": "python",
            "pygments_lexer": "ipython3",
            "version": "3.9.18"
        }
    },
    "nbformat": 4,
    "nbformat_minor": 4
}
